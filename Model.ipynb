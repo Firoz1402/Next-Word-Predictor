{
 "cells": [
  {
   "cell_type": "code",
   "execution_count": 1,
   "id": "8db03689",
   "metadata": {},
   "outputs": [
    {
     "name": "stderr",
     "output_type": "stream",
     "text": [
      "2023-10-29 02:05:09.338143: I tensorflow/core/platform/cpu_feature_guard.cc:193] This TensorFlow binary is optimized with oneAPI Deep Neural Network Library (oneDNN) to use the following CPU instructions in performance-critical operations:  AVX2 FMA\n",
      "To enable them in other operations, rebuild TensorFlow with the appropriate compiler flags.\n",
      "2023-10-29 02:05:09.957692: W tensorflow/compiler/xla/stream_executor/platform/default/dso_loader.cc:64] Could not load dynamic library 'libnvinfer.so.7'; dlerror: libnvinfer.so.7: cannot open shared object file: No such file or directory; LD_LIBRARY_PATH: /home/roronoa/.conda/envs/tf/lib/python3.7/site-packages/nvidia/cudnn/lib:/home/roronoa/.conda/envs/tf/lib/:\n",
      "2023-10-29 02:05:09.957786: W tensorflow/compiler/xla/stream_executor/platform/default/dso_loader.cc:64] Could not load dynamic library 'libnvinfer_plugin.so.7'; dlerror: libnvinfer_plugin.so.7: cannot open shared object file: No such file or directory; LD_LIBRARY_PATH: /home/roronoa/.conda/envs/tf/lib/python3.7/site-packages/nvidia/cudnn/lib:/home/roronoa/.conda/envs/tf/lib/:\n",
      "2023-10-29 02:05:09.957796: W tensorflow/compiler/tf2tensorrt/utils/py_utils.cc:38] TF-TRT Warning: Cannot dlopen some TensorRT libraries. If you would like to use Nvidia GPU with TensorRT, please make sure the missing libraries mentioned above are installed properly.\n"
     ]
    }
   ],
   "source": [
    "import pandas as pd\n",
    "import os\n",
    "import numpy as np\n",
    "\n",
    "import tensorflow as tf\n",
    "from tensorflow.keras.preprocessing.sequence import pad_sequences\n",
    "from tensorflow.keras.layers import Embedding, LSTM, Dense, Bidirectional\n",
    "from tensorflow.keras.preprocessing.text import Tokenizer\n",
    "from tensorflow.keras.models import Sequential\n",
    "from tensorflow.keras.optimizers import Adam"
   ]
  },
  {
   "cell_type": "code",
   "execution_count": 2,
   "id": "12a4292b",
   "metadata": {},
   "outputs": [],
   "source": [
    "df = pd.read_csv('Data/medium_data.csv')"
   ]
  },
  {
   "cell_type": "code",
   "execution_count": 3,
   "id": "3a26c0aa",
   "metadata": {},
   "outputs": [
    {
     "data": {
      "text/html": [
       "<div>\n",
       "<style scoped>\n",
       "    .dataframe tbody tr th:only-of-type {\n",
       "        vertical-align: middle;\n",
       "    }\n",
       "\n",
       "    .dataframe tbody tr th {\n",
       "        vertical-align: top;\n",
       "    }\n",
       "\n",
       "    .dataframe thead th {\n",
       "        text-align: right;\n",
       "    }\n",
       "</style>\n",
       "<table border=\"1\" class=\"dataframe\">\n",
       "  <thead>\n",
       "    <tr style=\"text-align: right;\">\n",
       "      <th></th>\n",
       "      <th>id</th>\n",
       "      <th>url</th>\n",
       "      <th>title</th>\n",
       "      <th>subtitle</th>\n",
       "      <th>image</th>\n",
       "      <th>claps</th>\n",
       "      <th>responses</th>\n",
       "      <th>reading_time</th>\n",
       "      <th>publication</th>\n",
       "      <th>date</th>\n",
       "    </tr>\n",
       "  </thead>\n",
       "  <tbody>\n",
       "    <tr>\n",
       "      <th>0</th>\n",
       "      <td>1</td>\n",
       "      <td>https://towardsdatascience.com/a-beginners-gui...</td>\n",
       "      <td>A Beginner’s Guide to Word Embedding with Gens...</td>\n",
       "      <td>NaN</td>\n",
       "      <td>1.png</td>\n",
       "      <td>850</td>\n",
       "      <td>8</td>\n",
       "      <td>8</td>\n",
       "      <td>Towards Data Science</td>\n",
       "      <td>2019-05-30</td>\n",
       "    </tr>\n",
       "    <tr>\n",
       "      <th>1</th>\n",
       "      <td>2</td>\n",
       "      <td>https://towardsdatascience.com/hands-on-graph-...</td>\n",
       "      <td>Hands-on Graph Neural Networks with PyTorch &amp; ...</td>\n",
       "      <td>NaN</td>\n",
       "      <td>2.png</td>\n",
       "      <td>1100</td>\n",
       "      <td>11</td>\n",
       "      <td>9</td>\n",
       "      <td>Towards Data Science</td>\n",
       "      <td>2019-05-30</td>\n",
       "    </tr>\n",
       "    <tr>\n",
       "      <th>2</th>\n",
       "      <td>3</td>\n",
       "      <td>https://towardsdatascience.com/how-to-use-ggpl...</td>\n",
       "      <td>How to Use ggplot2 in Python</td>\n",
       "      <td>A Grammar of Graphics for Python</td>\n",
       "      <td>3.png</td>\n",
       "      <td>767</td>\n",
       "      <td>1</td>\n",
       "      <td>5</td>\n",
       "      <td>Towards Data Science</td>\n",
       "      <td>2019-05-30</td>\n",
       "    </tr>\n",
       "    <tr>\n",
       "      <th>3</th>\n",
       "      <td>4</td>\n",
       "      <td>https://towardsdatascience.com/databricks-how-...</td>\n",
       "      <td>Databricks: How to Save Files in CSV on Your L...</td>\n",
       "      <td>When I work on Python projects dealing…</td>\n",
       "      <td>4.jpeg</td>\n",
       "      <td>354</td>\n",
       "      <td>0</td>\n",
       "      <td>4</td>\n",
       "      <td>Towards Data Science</td>\n",
       "      <td>2019-05-30</td>\n",
       "    </tr>\n",
       "    <tr>\n",
       "      <th>4</th>\n",
       "      <td>5</td>\n",
       "      <td>https://towardsdatascience.com/a-step-by-step-...</td>\n",
       "      <td>A Step-by-Step Implementation of Gradient Desc...</td>\n",
       "      <td>One example of building neural…</td>\n",
       "      <td>5.jpeg</td>\n",
       "      <td>211</td>\n",
       "      <td>3</td>\n",
       "      <td>4</td>\n",
       "      <td>Towards Data Science</td>\n",
       "      <td>2019-05-30</td>\n",
       "    </tr>\n",
       "  </tbody>\n",
       "</table>\n",
       "</div>"
      ],
      "text/plain": [
       "   id                                                url  \\\n",
       "0   1  https://towardsdatascience.com/a-beginners-gui...   \n",
       "1   2  https://towardsdatascience.com/hands-on-graph-...   \n",
       "2   3  https://towardsdatascience.com/how-to-use-ggpl...   \n",
       "3   4  https://towardsdatascience.com/databricks-how-...   \n",
       "4   5  https://towardsdatascience.com/a-step-by-step-...   \n",
       "\n",
       "                                               title  \\\n",
       "0  A Beginner’s Guide to Word Embedding with Gens...   \n",
       "1  Hands-on Graph Neural Networks with PyTorch & ...   \n",
       "2                       How to Use ggplot2 in Python   \n",
       "3  Databricks: How to Save Files in CSV on Your L...   \n",
       "4  A Step-by-Step Implementation of Gradient Desc...   \n",
       "\n",
       "                                  subtitle   image  claps responses  \\\n",
       "0                                      NaN   1.png    850         8   \n",
       "1                                      NaN   2.png   1100        11   \n",
       "2         A Grammar of Graphics for Python   3.png    767         1   \n",
       "3  When I work on Python projects dealing…  4.jpeg    354         0   \n",
       "4          One example of building neural…  5.jpeg    211         3   \n",
       "\n",
       "   reading_time           publication        date  \n",
       "0             8  Towards Data Science  2019-05-30  \n",
       "1             9  Towards Data Science  2019-05-30  \n",
       "2             5  Towards Data Science  2019-05-30  \n",
       "3             4  Towards Data Science  2019-05-30  \n",
       "4             4  Towards Data Science  2019-05-30  "
      ]
     },
     "execution_count": 3,
     "metadata": {},
     "output_type": "execute_result"
    }
   ],
   "source": [
    "df.head()"
   ]
  },
  {
   "cell_type": "code",
   "execution_count": 4,
   "id": "de0146bd",
   "metadata": {},
   "outputs": [],
   "source": [
    "df['title'] = df['title'].apply(lambda x: x.replace(u'\\xa0',u' '))\n",
    "df['title'] = df['title'].apply(lambda x: x.replace('\\u200a',' '))"
   ]
  },
  {
   "cell_type": "code",
   "execution_count": 5,
   "id": "15dee63c",
   "metadata": {},
   "outputs": [
    {
     "name": "stdout",
     "output_type": "stream",
     "text": [
      "Total number of words:  8238\n",
      "Word: ID\n",
      "------------\n",
      "<oov>:  1\n",
      "Strong:  4\n",
      "And:  8\n",
      "Consumption:  8237\n"
     ]
    }
   ],
   "source": [
    "tokenizer = Tokenizer(oov_token='<oov>') # For those words which are not found in word_index\n",
    "tokenizer.fit_on_texts(df['title'])\n",
    "total_words = len(tokenizer.word_index) + 1\n",
    "\n",
    "print(\"Total number of words: \", total_words)\n",
    "print(\"Word: ID\")\n",
    "print(\"------------\")\n",
    "print(\"<oov>: \", tokenizer.word_index['<oov>'])\n",
    "print(\"Strong: \", tokenizer.word_index['strong'])\n",
    "print(\"And: \", tokenizer.word_index['and'])\n",
    "print(\"Consumption: \", tokenizer.word_index['consumption'])"
   ]
  },
  {
   "cell_type": "code",
   "execution_count": 6,
   "id": "f04d123a",
   "metadata": {},
   "outputs": [
    {
     "name": "stdout",
     "output_type": "stream",
     "text": [
      "Total input sequences:  48461\n"
     ]
    }
   ],
   "source": [
    "input_sequences = []\n",
    "for line in df['title']:\n",
    "    token_list = tokenizer.texts_to_sequences([line])[0]\n",
    "    #print(token_list)\n",
    "    \n",
    "    for i in range(1, len(token_list)):\n",
    "        n_gram_sequence = token_list[:i+1]\n",
    "        input_sequences.append(n_gram_sequence)\n",
    "\n",
    "# print(input_sequences)\n",
    "print(\"Total input sequences: \", len(input_sequences))"
   ]
  },
  {
   "cell_type": "code",
   "execution_count": 7,
   "id": "b9cca0dd",
   "metadata": {},
   "outputs": [
    {
     "data": {
      "text/plain": [
       "array([  0,   0,   0,   0,   0,   0,   0,   0,   0,   0,   0,   0,   0,\n",
       "         0,   0,   0,   0,   0,   0,   0,   0,   0,   0,   0,   0,   0,\n",
       "         0,   0,   0,   0,   0,   0,   0,   0,   0,   0,   0,   5, 676,\n",
       "        68], dtype=int32)"
      ]
     },
     "execution_count": 7,
     "metadata": {},
     "output_type": "execute_result"
    }
   ],
   "source": [
    "max_sequence_len = max([len(x) for x in input_sequences])\n",
    "input_sequences = np.array(pad_sequences(input_sequences, maxlen=max_sequence_len, padding='pre'))\n",
    "input_sequences[1]"
   ]
  },
  {
   "cell_type": "code",
   "execution_count": 8,
   "id": "0060820f",
   "metadata": {},
   "outputs": [],
   "source": [
    "xs, labels = input_sequences[:,:-1],input_sequences[:,-1]\n",
    "ys = tf.keras.utils.to_categorical(labels, num_classes=total_words)"
   ]
  },
  {
   "cell_type": "code",
   "execution_count": 9,
   "id": "d534b361",
   "metadata": {},
   "outputs": [
    {
     "name": "stderr",
     "output_type": "stream",
     "text": [
      "2023-10-29 02:05:12.120602: I tensorflow/compiler/xla/stream_executor/cuda/cuda_gpu_executor.cc:981] successful NUMA node read from SysFS had negative value (-1), but there must be at least one NUMA node, so returning NUMA node zero\n",
      "2023-10-29 02:05:12.279547: I tensorflow/compiler/xla/stream_executor/cuda/cuda_gpu_executor.cc:981] successful NUMA node read from SysFS had negative value (-1), but there must be at least one NUMA node, so returning NUMA node zero\n",
      "2023-10-29 02:05:12.279810: I tensorflow/compiler/xla/stream_executor/cuda/cuda_gpu_executor.cc:981] successful NUMA node read from SysFS had negative value (-1), but there must be at least one NUMA node, so returning NUMA node zero\n",
      "2023-10-29 02:05:12.280370: I tensorflow/core/platform/cpu_feature_guard.cc:193] This TensorFlow binary is optimized with oneAPI Deep Neural Network Library (oneDNN) to use the following CPU instructions in performance-critical operations:  AVX2 FMA\n",
      "To enable them in other operations, rebuild TensorFlow with the appropriate compiler flags.\n",
      "2023-10-29 02:05:12.281185: I tensorflow/compiler/xla/stream_executor/cuda/cuda_gpu_executor.cc:981] successful NUMA node read from SysFS had negative value (-1), but there must be at least one NUMA node, so returning NUMA node zero\n",
      "2023-10-29 02:05:12.281364: I tensorflow/compiler/xla/stream_executor/cuda/cuda_gpu_executor.cc:981] successful NUMA node read from SysFS had negative value (-1), but there must be at least one NUMA node, so returning NUMA node zero\n",
      "2023-10-29 02:05:12.281536: I tensorflow/compiler/xla/stream_executor/cuda/cuda_gpu_executor.cc:981] successful NUMA node read from SysFS had negative value (-1), but there must be at least one NUMA node, so returning NUMA node zero\n",
      "2023-10-29 02:05:12.330940: I tensorflow/compiler/xla/stream_executor/cuda/cuda_gpu_executor.cc:981] successful NUMA node read from SysFS had negative value (-1), but there must be at least one NUMA node, so returning NUMA node zero\n",
      "2023-10-29 02:05:12.331156: I tensorflow/compiler/xla/stream_executor/cuda/cuda_gpu_executor.cc:981] successful NUMA node read from SysFS had negative value (-1), but there must be at least one NUMA node, so returning NUMA node zero\n",
      "2023-10-29 02:05:12.331326: I tensorflow/compiler/xla/stream_executor/cuda/cuda_gpu_executor.cc:981] successful NUMA node read from SysFS had negative value (-1), but there must be at least one NUMA node, so returning NUMA node zero\n",
      "2023-10-29 02:05:12.331467: I tensorflow/core/common_runtime/gpu/gpu_device.cc:1613] Created device /job:localhost/replica:0/task:0/device:GPU:0 with 2287 MB memory:  -> device: 0, name: NVIDIA GeForce RTX 3050 Laptop GPU, pci bus id: 0000:01:00.0, compute capability: 8.6\n",
      "2023-10-29 02:05:12.714269: W tensorflow/tsl/framework/cpu_allocator_impl.cc:82] Allocation of 1596886872 exceeds 10% of free system memory.\n",
      "2023-10-29 02:05:14.166192: W tensorflow/tsl/framework/cpu_allocator_impl.cc:82] Allocation of 1596886872 exceeds 10% of free system memory.\n"
     ]
    },
    {
     "name": "stdout",
     "output_type": "stream",
     "text": [
      "Epoch 1/50\n"
     ]
    },
    {
     "name": "stderr",
     "output_type": "stream",
     "text": [
      "2023-10-29 02:05:16.703892: I tensorflow/compiler/xla/stream_executor/cuda/cuda_dnn.cc:428] Loaded cuDNN version 8500\n",
      "2023-10-29 02:05:16.903740: I tensorflow/compiler/xla/stream_executor/cuda/cuda_blas.cc:630] TensorFloat-32 will be used for the matrix multiplication. This will only be logged once.\n",
      "2023-10-29 02:05:16.968025: I tensorflow/compiler/xla/service/service.cc:173] XLA service 0x55c3922b5330 initialized for platform CUDA (this does not guarantee that XLA will be used). Devices:\n",
      "2023-10-29 02:05:16.968054: I tensorflow/compiler/xla/service/service.cc:181]   StreamExecutor device (0): NVIDIA GeForce RTX 3050 Laptop GPU, Compute Capability 8.6\n",
      "2023-10-29 02:05:16.972040: I tensorflow/compiler/mlir/tensorflow/utils/dump_mlir_util.cc:268] disabling MLIR crash reproducer, set env var `MLIR_CRASH_REPRODUCER_DIRECTORY` to enable.\n",
      "2023-10-29 02:05:17.031254: I tensorflow/tsl/platform/default/subprocess.cc:304] Start cannot spawn child process: No such file or directory\n",
      "2023-10-29 02:05:17.079810: I tensorflow/compiler/jit/xla_compilation_cache.cc:477] Compiled cluster using XLA!  This line is logged at most once for the lifetime of the process.\n"
     ]
    },
    {
     "name": "stdout",
     "output_type": "stream",
     "text": [
      "1515/1515 [==============================] - 23s 14ms/step - loss: 6.7919 - accuracy: 0.1273\n",
      "Epoch 2/50\n",
      "1515/1515 [==============================] - 14s 9ms/step - loss: 5.8416 - accuracy: 0.1728\n",
      "Epoch 3/50\n",
      "1515/1515 [==============================] - 14s 9ms/step - loss: 5.0707 - accuracy: 0.1979\n",
      "Epoch 4/50\n",
      "1515/1515 [==============================] - 14s 9ms/step - loss: 4.3592 - accuracy: 0.2358\n",
      "Epoch 5/50\n",
      "1515/1515 [==============================] - 14s 9ms/step - loss: 3.8461 - accuracy: 0.2772\n",
      "Epoch 6/50\n",
      "1515/1515 [==============================] - 14s 9ms/step - loss: 3.5063 - accuracy: 0.3140\n",
      "Epoch 7/50\n",
      "1515/1515 [==============================] - 14s 9ms/step - loss: 3.2582 - accuracy: 0.3388\n",
      "Epoch 8/50\n",
      "1515/1515 [==============================] - 13s 9ms/step - loss: 3.0892 - accuracy: 0.3622\n",
      "Epoch 9/50\n",
      "1515/1515 [==============================] - 13s 9ms/step - loss: 2.9700 - accuracy: 0.3763\n",
      "Epoch 10/50\n",
      "1515/1515 [==============================] - 14s 9ms/step - loss: 2.8592 - accuracy: 0.3910\n",
      "Epoch 11/50\n",
      "1515/1515 [==============================] - 14s 9ms/step - loss: 2.8007 - accuracy: 0.4003\n",
      "Epoch 12/50\n",
      "1515/1515 [==============================] - 13s 9ms/step - loss: 2.7205 - accuracy: 0.4111\n",
      "Epoch 13/50\n",
      "1515/1515 [==============================] - 14s 9ms/step - loss: 2.6817 - accuracy: 0.4153\n",
      "Epoch 14/50\n",
      "1515/1515 [==============================] - 13s 9ms/step - loss: 2.6168 - accuracy: 0.4291\n",
      "Epoch 15/50\n",
      "1515/1515 [==============================] - 13s 9ms/step - loss: 2.6044 - accuracy: 0.4316\n",
      "Epoch 16/50\n",
      "1515/1515 [==============================] - 13s 9ms/step - loss: 2.5985 - accuracy: 0.4344\n",
      "Epoch 17/50\n",
      "1515/1515 [==============================] - 13s 9ms/step - loss: 2.5820 - accuracy: 0.4372\n",
      "Epoch 18/50\n",
      "1515/1515 [==============================] - 13s 9ms/step - loss: 2.5848 - accuracy: 0.4411\n",
      "Epoch 19/50\n",
      "1515/1515 [==============================] - 13s 9ms/step - loss: 2.6364 - accuracy: 0.4341\n",
      "Epoch 20/50\n",
      "1515/1515 [==============================] - 14s 9ms/step - loss: 2.5111 - accuracy: 0.4509\n",
      "Epoch 21/50\n",
      "1515/1515 [==============================] - 14s 9ms/step - loss: 2.4349 - accuracy: 0.4630\n",
      "Epoch 22/50\n",
      "1515/1515 [==============================] - 13s 9ms/step - loss: 2.4764 - accuracy: 0.4575\n",
      "Epoch 23/50\n",
      "1515/1515 [==============================] - 13s 9ms/step - loss: 2.4835 - accuracy: 0.4556\n",
      "Epoch 24/50\n",
      "1515/1515 [==============================] - 13s 9ms/step - loss: 2.4116 - accuracy: 0.4651\n",
      "Epoch 25/50\n",
      "1515/1515 [==============================] - 13s 9ms/step - loss: 2.3659 - accuracy: 0.4728\n",
      "Epoch 26/50\n",
      "1515/1515 [==============================] - 13s 9ms/step - loss: 2.3770 - accuracy: 0.4724\n",
      "Epoch 27/50\n",
      "1515/1515 [==============================] - 13s 9ms/step - loss: 2.3689 - accuracy: 0.4761\n",
      "Epoch 28/50\n",
      "1515/1515 [==============================] - 13s 9ms/step - loss: 2.3513 - accuracy: 0.4768\n",
      "Epoch 29/50\n",
      "1515/1515 [==============================] - 13s 9ms/step - loss: 2.3200 - accuracy: 0.4834\n",
      "Epoch 30/50\n",
      "1515/1515 [==============================] - 13s 9ms/step - loss: 2.3276 - accuracy: 0.4827\n",
      "Epoch 31/50\n",
      "1515/1515 [==============================] - 13s 9ms/step - loss: 2.3219 - accuracy: 0.4835\n",
      "Epoch 32/50\n",
      "1515/1515 [==============================] - 14s 9ms/step - loss: 2.3226 - accuracy: 0.4831\n",
      "Epoch 33/50\n",
      "1515/1515 [==============================] - 13s 9ms/step - loss: 2.3076 - accuracy: 0.4887\n",
      "Epoch 34/50\n",
      "1515/1515 [==============================] - 14s 9ms/step - loss: 2.2990 - accuracy: 0.4906\n",
      "Epoch 35/50\n",
      "1515/1515 [==============================] - 13s 9ms/step - loss: 2.2513 - accuracy: 0.4960\n",
      "Epoch 36/50\n",
      "1515/1515 [==============================] - 13s 9ms/step - loss: 2.2436 - accuracy: 0.5009\n",
      "Epoch 37/50\n",
      "1515/1515 [==============================] - 13s 9ms/step - loss: 2.2520 - accuracy: 0.4992\n",
      "Epoch 38/50\n",
      "1515/1515 [==============================] - 13s 9ms/step - loss: 2.3032 - accuracy: 0.4928\n",
      "Epoch 39/50\n",
      "1515/1515 [==============================] - 13s 9ms/step - loss: 2.3139 - accuracy: 0.4929\n",
      "Epoch 40/50\n",
      "1515/1515 [==============================] - 13s 9ms/step - loss: 2.2828 - accuracy: 0.4975\n",
      "Epoch 41/50\n",
      "1515/1515 [==============================] - 13s 9ms/step - loss: 2.3194 - accuracy: 0.4963\n",
      "Epoch 42/50\n",
      "1515/1515 [==============================] - 13s 9ms/step - loss: 2.3267 - accuracy: 0.4924\n",
      "Epoch 43/50\n",
      "1515/1515 [==============================] - 13s 9ms/step - loss: 2.2839 - accuracy: 0.4981\n",
      "Epoch 44/50\n",
      "1515/1515 [==============================] - 13s 9ms/step - loss: 2.2975 - accuracy: 0.4987\n",
      "Epoch 45/50\n",
      "1515/1515 [==============================] - 13s 9ms/step - loss: 2.2873 - accuracy: 0.4957\n",
      "Epoch 46/50\n",
      "1515/1515 [==============================] - 13s 9ms/step - loss: 2.2542 - accuracy: 0.5002\n",
      "Epoch 47/50\n",
      "1515/1515 [==============================] - 13s 9ms/step - loss: 2.2525 - accuracy: 0.5064\n",
      "Epoch 48/50\n",
      "1515/1515 [==============================] - 13s 9ms/step - loss: 2.2183 - accuracy: 0.5068\n",
      "Epoch 49/50\n",
      "1515/1515 [==============================] - 13s 9ms/step - loss: 2.1956 - accuracy: 0.5127\n",
      "Epoch 50/50\n",
      "1515/1515 [==============================] - 13s 9ms/step - loss: 2.2140 - accuracy: 0.5059\n",
      "<keras.engine.sequential.Sequential object at 0x7f859dbe2750>\n"
     ]
    }
   ],
   "source": [
    "model = Sequential()\n",
    "model.add(Embedding(total_words, 128, input_length=max_sequence_len-1))\n",
    "model.add(Bidirectional(LSTM(150)))\n",
    "model.add(Dense(total_words, activation='softmax'))\n",
    "adam = Adam(learning_rate=0.01)\n",
    "model.compile(loss='categorical_crossentropy', optimizer=adam, metrics=['accuracy'])\n",
    "history = model.fit(xs, ys, epochs=50, verbose=1)\n",
    "#print model.summary()\n",
    "print(model)"
   ]
  },
  {
   "cell_type": "code",
   "execution_count": 10,
   "id": "6c707fd6",
   "metadata": {},
   "outputs": [],
   "source": [
    "import matplotlib.pyplot as plt\n",
    "\n",
    "\n",
    "def plot_graphs(history, string):\n",
    "    plt.plot(history.history[string])\n",
    "    plt.xlabel(\"Epochs\")\n",
    "    plt.ylabel(string)\n",
    "    plt.show()"
   ]
  },
  {
   "cell_type": "code",
   "execution_count": 11,
   "id": "a30fc54b",
   "metadata": {},
   "outputs": [
    {
     "data": {
      "image/png": "[encoded data removed]",
      "text/plain": [
       "<Figure size 640x480 with 1 Axes>"
      ]
     },
     "metadata": {},
     "output_type": "display_data"
    }
   ],
   "source": [
    "plot_graphs(history, 'accuracy')"
   ]
  },
  {
   "cell_type": "code",
   "execution_count": 12,
   "id": "3cd5fd95",
   "metadata": {},
   "outputs": [
    {
     "data": {
      "image/png": "[encoded data removed]",
      "text/plain": [
       "<Figure size 640x480 with 1 Axes>"
      ]
     },
     "metadata": {},
     "output_type": "display_data"
    }
   ],
   "source": [
    "plot_graphs(history, 'loss')"
   ]
  },
  {
   "cell_type": "code",
   "execution_count": 13,
   "id": "07c7434e",
   "metadata": {},
   "outputs": [
    {
     "name": "stdout",
     "output_type": "stream",
     "text": [
      "1/1 [==============================] - 0s 441ms/step\n",
      "Data science\n",
      "1/1 [==============================] - 0s 16ms/step\n",
      "Data science productionization\n",
      "1/1 [==============================] - 0s 16ms/step\n",
      "Data science productionization trust\n",
      "1/1 [==============================] - 0s 16ms/step\n",
      "Data science productionization trust managed\n",
      "1/1 [==============================] - 0s 15ms/step\n",
      "Data science productionization trust managed to\n",
      "1/1 [==============================] - 0s 16ms/step\n",
      "Data science productionization trust managed to break\n",
      "1/1 [==============================] - 0s 16ms/step\n",
      "Data science productionization trust managed to break pandas\n",
      "1/1 [==============================] - 0s 15ms/step\n",
      "Data science productionization trust managed to break pandas analytics\n",
      "1/1 [==============================] - 0s 15ms/step\n",
      "Data science productionization trust managed to break pandas analytics in\n",
      "1/1 [==============================] - 0s 15ms/step\n",
      "Data science productionization trust managed to break pandas analytics in english\n"
     ]
    }
   ],
   "source": [
    "import time\n",
    "text = \"Data\"\n",
    "\n",
    "for i in range(10):\n",
    "  # tokenize\n",
    "  token_text = tokenizer.texts_to_sequences([text])[0]\n",
    "  # padding\n",
    "  padded_token_text = pad_sequences([token_text],max_sequence_len-1, padding='pre')\n",
    "  # predict\n",
    "  pos = np.argmax(model.predict(padded_token_text))\n",
    "\n",
    "  for word,index in tokenizer.word_index.items():\n",
    "    if index == pos:\n",
    "      text = text + \" \" + word\n",
    "      print(text)\n",
    "      time.sleep(2)"
   ]
  },
  {
   "cell_type": "code",
   "execution_count": 14,
   "id": "5e2c3791",
   "metadata": {},
   "outputs": [
    {
     "name": "stdout",
     "output_type": "stream",
     "text": [
      "1/1 [==============================] - 0s 15ms/step\n",
      "—\n",
      "planning\n",
      "staffing\n"
     ]
    }
   ],
   "source": [
    "import numpy as np\n",
    "\n",
    "input_word = \"Hands-on your data science project\"\n",
    "\n",
    "# Tokenize the input word\n",
    "input_token = tokenizer.texts_to_sequences([input_word])[0]\n",
    "\n",
    "# Padding\n",
    "padded_input_token = pad_sequences([input_token], max_sequence_len - 1, padding='pre')\n",
    "\n",
    "# Predict probabilities for all words\n",
    "word_probabilities = model.predict(padded_input_token)[0]\n",
    "\n",
    "# Get the indices of the top 3 predicted words\n",
    "top_indices = np.argpartition(word_probabilities, -3)[-3:]\n",
    "top_indices = top_indices[np.argsort(-word_probabilities[top_indices])]  # Sort in descending order\n",
    "\n",
    "top_words = [word for word, index in tokenizer.word_index.items() if index in top_indices]\n",
    "\n",
    "for word in top_words:\n",
    "    print(word)\n"
   ]
  },
  {
   "cell_type": "code",
   "execution_count": 15,
   "id": "86e723b5",
   "metadata": {},
   "outputs": [
    {
     "name": "stdout",
     "output_type": "stream",
     "text": [
      "Enter a word (or type 'exit' to quit): Data\n",
      "1/1 [==============================] - 0s 19ms/step\n",
      "science\n",
      "visualization\n",
      "analytics\n",
      "Enter a word (or type 'exit' to quit): exit\n"
     ]
    }
   ],
   "source": [
    "import numpy as np\n",
    "\n",
    "while True:\n",
    "    input_word = input(\"Enter a word (or type 'exit' to quit): \")\n",
    "\n",
    "    if input_word.lower() == 'exit':\n",
    "        break\n",
    "\n",
    "    # Tokenize the input word\n",
    "    input_token = tokenizer.texts_to_sequences([input_word])[0]\n",
    "\n",
    "    # Padding\n",
    "    padded_input_token = pad_sequences([input_token], max_sequence_len - 1, padding='pre')\n",
    "\n",
    "    # Predict probabilities for all words\n",
    "    word_probabilities = model.predict(padded_input_token)[0]\n",
    "\n",
    "    # Get the indices of the top 3 predicted words\n",
    "    top_indices = np.argpartition(word_probabilities, -3)[-3:]\n",
    "    top_indices = top_indices[np.argsort(-word_probabilities[top_indices])]  # Sort in descending order\n",
    "\n",
    "    top_words = [word for word, index in tokenizer.word_index.items() if index in top_indices]\n",
    "\n",
    "    for word in top_words:\n",
    "        print(word)\n"
   ]
  },
  {
   "cell_type": "code",
   "execution_count": 16,
   "id": "4b3a7277",
   "metadata": {},
   "outputs": [
    {
     "name": "stdout",
     "output_type": "stream",
     "text": [
      "Enter a word (or type 'exit' to quit): exit\n"
     ]
    }
   ],
   "source": [
    "import numpy as np\n",
    "\n",
    "current_text = \"\"\n",
    "\n",
    "while True:\n",
    "    input_word = input(\"Enter a word (or type 'exit' to quit): \")\n",
    "\n",
    "    if input_word.lower() == 'exit':\n",
    "        break\n",
    "\n",
    "    current_text += \" \" + input_word  # Append the current input to the existing text\n",
    "\n",
    "    # Tokenize the updated text\n",
    "    input_token = tokenizer.texts_to_sequences([current_text])[0]\n",
    "\n",
    "    # Padding\n",
    "    padded_input_token = pad_sequences([input_token], max_sequence_len - 1, padding='pre')\n",
    "\n",
    "    # Predict probabilities for all words\n",
    "    word_probabilities = model.predict(padded_input_token)[0]\n",
    "\n",
    "    # Get the indices of the top 3 predicted words\n",
    "    top_indices = np.argpartition(word_probabilities, -3)[-3:]\n",
    "    top_indices = top_indices[np.argsort(-word_probabilities[top_indices])]  # Sort in descending order\n",
    "\n",
    "    top_words = [word for word, index in tokenizer.word_index.items() if index in top_indices]\n",
    "\n",
    "    for word in top_words:\n",
    "        print(word)\n"
   ]
  },
  {
   "cell_type": "code",
   "execution_count": 17,
   "id": "eaa536ab",
   "metadata": {},
   "outputs": [
    {
     "name": "stdout",
     "output_type": "stream",
     "text": [
      "Keras weights file (<HDF5 file \"variables.h5\" (mode r+)>) saving:\n",
      "...layers\n",
      "......bidirectional\n",
      ".........backward_layer\n",
      "............cell\n",
      "...............vars\n",
      "..................0\n",
      "..................1\n",
      "..................2\n",
      "............vars\n",
      ".........forward_layer\n",
      "............cell\n",
      "...............vars\n",
      "..................0\n",
      "..................1\n",
      "..................2\n",
      "............vars\n",
      ".........layer\n",
      "............cell\n",
      "...............vars\n",
      "............vars\n",
      ".........vars\n",
      "......dense\n",
      ".........vars\n",
      "............0\n",
      "............1\n",
      "......embedding\n",
      ".........vars\n",
      "............0\n",
      "...metrics\n",
      "......mean\n",
      ".........vars\n",
      "............0\n",
      "............1\n",
      "......mean_metric_wrapper\n",
      ".........vars\n",
      "............0\n",
      "............1\n",
      "...optimizer\n",
      "......vars\n",
      ".........0\n",
      ".........1\n",
      ".........10\n",
      ".........11\n",
      ".........12\n",
      ".........13\n",
      ".........14\n",
      ".........15\n",
      ".........16\n",
      ".........17\n",
      ".........18\n",
      ".........2\n",
      ".........3\n",
      ".........4\n",
      ".........5\n",
      ".........6\n",
      ".........7\n",
      ".........8\n",
      ".........9\n",
      "...vars\n",
      "Keras model archive saving:\n",
      "File Name                                             Modified             Size\n",
      "variables.h5                                   2023-10-29 02:23:54     46466184\n",
      "config.json                                    2023-10-29 02:23:54         2764\n",
      "metadata.json                                  2023-10-29 02:23:54           64\n",
      "Model saved to model.pkl\n"
     ]
    }
   ],
   "source": [
    "import pickle\n",
    "\n",
    "\n",
    "my_model = model \n",
    "\n",
    "\n",
    "filename = \"model.pkl\"\n",
    "\n",
    "# Open the file in binary write mode ('wb')\n",
    "with open(filename, 'wb') as file:\n",
    "    # Serialize and write the model to the file\n",
    "    pickle.dump(my_model, file)\n",
    "\n",
    "print(f\"Model saved to {filename}\")\n"
   ]
  },
  {
   "cell_type": "code",
   "execution_count": null,
   "id": "8565fa73",
   "metadata": {},
   "outputs": [],
   "source": []
  }
 ],
 "metadata": {
  "kernelspec": {
   "display_name": "Python 3 (ipykernel)",
   "language": "python",
   "name": "python3"
  },
  "language_info": {
   "codemirror_mode": {
    "name": "ipython",
    "version": 3
   },
   "file_extension": ".py",
   "mimetype": "text/x-python",
   "name": "python",
   "nbconvert_exporter": "python",
   "pygments_lexer": "ipython3",
   "version": "3.7.5"
  }
 },
 "nbformat": 4,
 "nbformat_minor": 5
}
